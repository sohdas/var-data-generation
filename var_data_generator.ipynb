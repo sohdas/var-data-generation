{
 "cells": [
  {
   "cell_type": "code",
   "execution_count": 1,
   "metadata": {},
   "outputs": [],
   "source": [
    "import pandas as pd\n",
    "import numpy as np\n",
    "import statsmodels.api as sm\n",
    "from statsmodels.tsa.api import VAR"
   ]
  },
  {
   "cell_type": "code",
   "execution_count": 2,
   "metadata": {},
   "outputs": [],
   "source": [
    "import datetime as dt"
   ]
  },
  {
   "cell_type": "code",
   "execution_count": 3,
   "metadata": {
    "scrolled": true
   },
   "outputs": [],
   "source": [
    "data = pd.read_pickle(\"./data.pkl\")"
   ]
  },
  {
   "cell_type": "code",
   "execution_count": 4,
   "metadata": {},
   "outputs": [],
   "source": [
    "data_stocks = data[['AAPL','MSFT','AMZN']]"
   ]
  },
  {
   "cell_type": "code",
   "execution_count": 5,
   "metadata": {},
   "outputs": [],
   "source": [
    "data_stocks = data_stocks[:100]"
   ]
  },
  {
   "cell_type": "code",
   "execution_count": 6,
   "metadata": {},
   "outputs": [],
   "source": [
    "model = VAR(data_stocks)"
   ]
  },
  {
   "cell_type": "code",
   "execution_count": 7,
   "metadata": {},
   "outputs": [],
   "source": [
    "results = model.fit(3)"
   ]
  },
  {
   "cell_type": "code",
   "execution_count": 8,
   "metadata": {
    "scrolled": true
   },
   "outputs": [
    {
     "data": {
      "text/plain": [
       "  Summary of Regression Results   \n",
       "==================================\n",
       "Model:                         VAR\n",
       "Method:                        OLS\n",
       "Date:           Mon, 10, Feb, 2020\n",
       "Time:                     18:47:02\n",
       "--------------------------------------------------------------------\n",
       "No. of Equations:         3.00000    BIC:                   -25.5856\n",
       "Nobs:                     97.0000    HQIC:                  -26.0599\n",
       "Log likelihood:           896.613    FPE:                3.49487e-12\n",
       "AIC:                     -26.3819    Det(Omega_mle):     2.60372e-12\n",
       "--------------------------------------------------------------------\n",
       "Results for equation AAPL\n",
       "==========================================================================\n",
       "             coefficient       std. error           t-stat            prob\n",
       "--------------------------------------------------------------------------\n",
       "const          -0.000724         0.001464           -0.494           0.621\n",
       "L1.AAPL        -0.071333         0.147845           -0.482           0.629\n",
       "L1.MSFT         0.149555         0.196919            0.759           0.448\n",
       "L1.AMZN        -0.065833         0.101103           -0.651           0.515\n",
       "L2.AAPL        -0.124114         0.147287           -0.843           0.399\n",
       "L2.MSFT         0.125570         0.197426            0.636           0.525\n",
       "L2.AMZN         0.120209         0.104310            1.152           0.249\n",
       "L3.AAPL        -0.284600         0.143800           -1.979           0.048\n",
       "L3.MSFT        -0.277146         0.189706           -1.461           0.144\n",
       "L3.AMZN         0.345640         0.103488            3.340           0.001\n",
       "==========================================================================\n",
       "\n",
       "Results for equation MSFT\n",
       "==========================================================================\n",
       "             coefficient       std. error           t-stat            prob\n",
       "--------------------------------------------------------------------------\n",
       "const          -0.000807         0.001084           -0.745           0.456\n",
       "L1.AAPL         0.075491         0.109496            0.689           0.491\n",
       "L1.MSFT         0.268736         0.145841            1.843           0.065\n",
       "L1.AMZN        -0.195257         0.074878           -2.608           0.009\n",
       "L2.AAPL         0.027944         0.109082            0.256           0.798\n",
       "L2.MSFT         0.059135         0.146216            0.404           0.686\n",
       "L2.AMZN         0.056862         0.077254            0.736           0.462\n",
       "L3.AAPL        -0.132001         0.106500           -1.239           0.215\n",
       "L3.MSFT        -0.287161         0.140499           -2.044           0.041\n",
       "L3.AMZN         0.281928         0.076645            3.678           0.000\n",
       "==========================================================================\n",
       "\n",
       "Results for equation AMZN\n",
       "==========================================================================\n",
       "             coefficient       std. error           t-stat            prob\n",
       "--------------------------------------------------------------------------\n",
       "const          -0.001049         0.001770           -0.593           0.554\n",
       "L1.AAPL         0.151241         0.178798            0.846           0.398\n",
       "L1.MSFT         0.288630         0.238147            1.212           0.226\n",
       "L1.AMZN        -0.309505         0.122270           -2.531           0.011\n",
       "L2.AAPL         0.185953         0.178123            1.044           0.297\n",
       "L2.MSFT         0.327858         0.238759            1.373           0.170\n",
       "L2.AMZN        -0.028519         0.126149           -0.226           0.821\n",
       "L3.AAPL        -0.011902         0.173906           -0.068           0.945\n",
       "L3.MSFT        -0.287672         0.229424           -1.254           0.210\n",
       "L3.AMZN         0.274236         0.125155            2.191           0.028\n",
       "==========================================================================\n",
       "\n",
       "Correlation matrix of residuals\n",
       "            AAPL      MSFT      AMZN\n",
       "AAPL    1.000000  0.688828  0.490173\n",
       "MSFT    0.688828  1.000000  0.433726\n",
       "AMZN    0.490173  0.433726  1.000000\n",
       "\n"
      ]
     },
     "execution_count": 8,
     "metadata": {},
     "output_type": "execute_result"
    }
   ],
   "source": [
    "results.summary()"
   ]
  },
  {
   "cell_type": "code",
   "execution_count": 9,
   "metadata": {
    "scrolled": true
   },
   "outputs": [],
   "source": [
    "cov = results.forecast_cov"
   ]
  },
  {
   "cell_type": "code",
   "execution_count": 10,
   "metadata": {},
   "outputs": [
    {
     "data": {
      "text/plain": [
       "<bound method VARResults.forecast_cov of <statsmodels.tsa.vector_ar.var_model.VARResults object at 0x000001F05165D7B8>>"
      ]
     },
     "execution_count": 10,
     "metadata": {},
     "output_type": "execute_result"
    }
   ],
   "source": [
    "cov"
   ]
  },
  {
   "cell_type": "code",
   "execution_count": null,
   "metadata": {},
   "outputs": [],
   "source": []
  }
 ],
 "metadata": {
  "jupytext": {
   "formats": "ipynb,md"
  },
  "kernelspec": {
   "display_name": "Python 3",
   "language": "python",
   "name": "python3"
  },
  "language_info": {
   "codemirror_mode": {
    "name": "ipython",
    "version": 3
   },
   "file_extension": ".py",
   "mimetype": "text/x-python",
   "name": "python",
   "nbconvert_exporter": "python",
   "pygments_lexer": "ipython3",
   "version": "3.6.5"
  }
 },
 "nbformat": 4,
 "nbformat_minor": 2
}
